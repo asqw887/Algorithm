{
 "cells": [
  {
   "cell_type": "code",
   "execution_count": 11,
   "source": [
    "# 잃어버린 괄호\n",
    "\n",
    "# 괄호를 적절히 쳐서 식의 값을 최소로 만들기\n",
    "\n",
    "# ???? \n",
    "\n",
    "# -를 기준으로 다음 -가 나올때까지 더해주기 \n"
   ],
   "outputs": [],
   "metadata": {}
  },
  {
   "cell_type": "code",
   "execution_count": 13,
   "source": [
    "arr = input().split(\"-\")\n",
    "# print(arr)1\n",
    "\n",
    "numbers = []\n",
    "\n",
    "# 각 요소에 +가 있는거 더해주기 \n",
    "for i in arr:\n",
    "    \n",
    "    num = i.split(\"+\")  # 덧셈을 해야하는 리스트를 따로 만듬 \n",
    "#     print(num) \n",
    "    temp = 0\n",
    "    for j in num: \n",
    "        temp += int(j) \n",
    "    numbers.append(temp)  # 덧셈을 한 요소를 새로운 리스트에 저장 # 여기있는 요소들을 빼주면 ㅇㅋㅇㅋ \n",
    "    \n",
    "\n",
    "answer = 0\n",
    "# print(numbers)\n",
    "for i in range(len(numbers)):\n",
    "    if i==0:\n",
    "        answer += numbers[i]\n",
    "    else:\n",
    "        answer -= numbers[i]\n",
    "\n",
    "print(answer)\n",
    "    \n",
    "    "
   ],
   "outputs": [
    {
     "output_type": "stream",
     "name": "stdout",
     "text": [
      "55-50+40\n",
      "-35\n"
     ]
    }
   ],
   "metadata": {}
  },
  {
   "cell_type": "code",
   "execution_count": null,
   "source": [],
   "outputs": [],
   "metadata": {}
  }
 ],
 "metadata": {
  "kernelspec": {
   "display_name": "Python 3 (ipykernel)",
   "language": "python",
   "name": "python3"
  },
  "language_info": {
   "codemirror_mode": {
    "name": "ipython",
    "version": 3
   },
   "file_extension": ".py",
   "mimetype": "text/x-python",
   "name": "python",
   "nbconvert_exporter": "python",
   "pygments_lexer": "ipython3",
   "version": "3.9.7"
  }
 },
 "nbformat": 4,
 "nbformat_minor": 5
}