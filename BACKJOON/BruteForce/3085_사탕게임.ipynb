{
 "cells": [
  {
   "cell_type": "markdown",
   "id": "29afa52d",
   "metadata": {},
   "source": [
    "## 3085 사탕게임\n",
    "\n",
    "    상근이는 어렸을 적에 \"봄보니 (Bomboni)\" 게임을 즐겨했다.\n",
    "\n",
    "    가장 처음에 N×N크기에 사탕을 채워 놓는다. 사탕의 색은 모두 같지 않을 수도 있다. 상근이는 사탕의 색이 다른 인접한 두 칸을 고른다. 그 다음 고른 칸에 들어있는 사탕을 서로 교환한다. 이제, 모두 같은 색으로 이루어져 있는 가장 긴 연속 부분(행 또는 열)을 고른 다음 그 사탕을 모두 먹는다.\n",
    "\n",
    "    사탕이 채워진 상태가 주어졌을 때, 상근이가 먹을 수 있는 사탕의 최대 개수를 구하는 프로그램을 작성하시오."
   ]
  },
  {
   "cell_type": "markdown",
   "id": "296bd57b",
   "metadata": {},
   "source": [
    "### 입력 \n",
    "\n",
    "    첫째 줄에 보드의 크기 N이 주어진다. (3 ≤ N ≤ 50)\n",
    "\n",
    "    다음 N개 줄에는 보드에 채워져 있는 사탕의 색상이 주어진다. 빨간색은 C, 파란색은 P, 초록색은 Z, 노란색은 Y로 주어진다.\n",
    "\n",
    "    사탕의 색이 다른 인접한 두 칸이 존재하는 입력만 주어진다."
   ]
  },
  {
   "cell_type": "markdown",
   "id": "d490e729",
   "metadata": {},
   "source": [
    "### 출력\n",
    "\n",
    "첫째 줄에 상근이가 먹을 수 있는 사탕의 최대 개수를 출력한다."
   ]
  },
  {
   "cell_type": "code",
   "execution_count": 2,
   "id": "22fbe91d",
   "metadata": {},
   "outputs": [
    {
     "name": "stdout",
     "output_type": "stream",
     "text": [
      "3\n",
      "ccp\n",
      "ccp\n",
      "ppc\n",
      "[['c', 'c', 'p'], ['c', 'c', 'p'], ['p', 'p', 'c']]\n"
     ]
    }
   ],
   "source": [
    "n = int(input())\n",
    "\n",
    "candy = []\n",
    "\n",
    "for _ in range(n):\n",
    "    row = list(input())\n",
    "    candy.append(row)\n",
    "    \n",
    "\n",
    "\n"
   ]
  }
 ],
 "metadata": {
  "kernelspec": {
   "display_name": "Python 3 (ipykernel)",
   "language": "python",
   "name": "python3"
  },
  "language_info": {
   "codemirror_mode": {
    "name": "ipython",
    "version": 3
   },
   "file_extension": ".py",
   "mimetype": "text/x-python",
   "name": "python",
   "nbconvert_exporter": "python",
   "pygments_lexer": "ipython3",
   "version": "3.9.7"
  }
 },
 "nbformat": 4,
 "nbformat_minor": 5
}
