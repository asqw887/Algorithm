{
 "cells": [
  {
   "cell_type": "code",
   "execution_count": null,
   "id": "697e4e22",
   "metadata": {},
   "outputs": [],
   "source": [
    "# 주유소 \n",
    "\n",
    "# 왼쪽 도시에서 오른쪽 도시로 가는 최소 비용 출력 \n",
    "\n",
    "# 첫번째 도시에서 무조건 사야함 -> 최소비용만 구매\n",
    "# 제일 낮은 기름값일때 많이 사기 \n",
    "# 현재 도시 기름값이 다음도시 기름값보다 크면 두 도시 사이 거리만큼 사기 \n",
    "# 작다면 더 싼값이 있는 다음 도시까지 기름 사기 \n"
   ]
  },
  {
   "cell_type": "code",
   "execution_count": 1,
   "id": "4698404e",
   "metadata": {},
   "outputs": [
    {
     "name": "stdout",
     "output_type": "stream",
     "text": [
      "4\n",
      "2 3 1\n",
      "5 2 4 1\n",
      "[2, 3, 1]\n",
      "[5, 2, 4, 1]\n"
     ]
    }
   ],
   "source": [
    "n = int(input())\n",
    "distance = list(map(int,input().split()))\n",
    "price = list(map(int,input().split()))\n",
    "\n",
    "answer = 0\n",
    "\n",
    "min_price = price[0]\n",
    "for i in range(1,len(price-1)): # 제일 싼 가격 찾기 \n",
    "    if min_price > price[i]:\n",
    "        min_price = price[i]\n",
    "\n",
    "\n",
    "    \n",
    "    \n",
    "\n",
    "for i in range(len(distance)):\n",
    "    answer = answer + distance[i] * current_price\n",
    "    if current_price > \n"
   ]
  },
  {
   "cell_type": "code",
   "execution_count": 2,
   "id": "c5602bd5",
   "metadata": {},
   "outputs": [
    {
     "name": "stdout",
     "output_type": "stream",
     "text": [
      "5\n",
      "3 2 1 4\n",
      "5 8 9 4 1\n",
      "46\n"
     ]
    }
   ],
   "source": [
    "n = int(input())\n",
    "distance = list(map(int,input().split()))\n",
    "price = list(map(int,input().split()))\n",
    "\n",
    "answer = 0\n",
    "\n",
    "current_price = price[0]\n",
    "\n",
    "for i in range(0,len(price)-1):\n",
    "    if current_price <= price[i]: # 다음 도시가 더 비쌈\n",
    "        answer = answer + (current_price * distance[i])\n",
    "    else: \n",
    "        current_price = price[i]\n",
    "        answer = answer + (current_price * distance[i])\n",
    "\n",
    "print(answer)"
   ]
  }
 ],
 "metadata": {
  "kernelspec": {
   "display_name": "Python 3 (ipykernel)",
   "language": "python",
   "name": "python3"
  },
  "language_info": {
   "codemirror_mode": {
    "name": "ipython",
    "version": 3
   },
   "file_extension": ".py",
   "mimetype": "text/x-python",
   "name": "python",
   "nbconvert_exporter": "python",
   "pygments_lexer": "ipython3",
   "version": "3.9.7"
  }
 },
 "nbformat": 4,
 "nbformat_minor": 5
}
