{
 "cells": [
  {
   "cell_type": "code",
   "execution_count": 1,
   "id": "7398e59c",
   "metadata": {},
   "outputs": [],
   "source": [
    "# 효율성에서 실패함 \n",
    "\n",
    "def solution(participant, completion):\n",
    "    \n",
    "    for i in completion:  \n",
    "        if i in participant:\n",
    "            find = participant.index(i)\n",
    "            del participant[find]\n",
    "        \n",
    "    return participant[0]    "
   ]
  },
  {
   "cell_type": "code",
   "execution_count": null,
   "id": "4178085d",
   "metadata": {},
   "outputs": [],
   "source": [
    "# index함수가 O(n) 시간복잡도를 가져 O(n^2)여서 실패한듯 하다.. "
   ]
  },
  {
   "cell_type": "code",
   "execution_count": 27,
   "id": "83731fea",
   "metadata": {},
   "outputs": [
    {
     "name": "stdout",
     "output_type": "stream",
     "text": [
      "['ana', 'mislav', 'mislav', 'stanko']\n",
      "['ana', 'mislav', 'stanko']\n",
      "mislav\n"
     ]
    }
   ],
   "source": [
    "participant = [\"mislav\", \"stanko\", \"mislav\", \"ana\"]\n",
    "completion = [\"stanko\", \"ana\", \"mislav\"]\n",
    "\n",
    "def solution(participant, completion):\n",
    "    \n",
    "    participant.sort()\n",
    "    completion.sort()\n",
    "\n",
    "\n",
    "    for i in range(len(completion)):\n",
    "        if participant[i] != completion[i]:\n",
    "            return participant[i]\n",
    "\n",
    "    return participant[-1]\n",
    "           \n",
    "print(solution(participant,completion))"
   ]
  },
  {
   "cell_type": "code",
   "execution_count": null,
   "id": "a2ae6506",
   "metadata": {},
   "outputs": [],
   "source": []
  }
 ],
 "metadata": {
  "kernelspec": {
   "display_name": "Python 3",
   "language": "python",
   "name": "python3"
  },
  "language_info": {
   "codemirror_mode": {
    "name": "ipython",
    "version": 3
   },
   "file_extension": ".py",
   "mimetype": "text/x-python",
   "name": "python",
   "nbconvert_exporter": "python",
   "pygments_lexer": "ipython3",
   "version": "3.8.8"
  }
 },
 "nbformat": 4,
 "nbformat_minor": 5
}
