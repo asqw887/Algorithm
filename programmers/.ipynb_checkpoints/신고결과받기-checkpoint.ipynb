{
 "cells": [
  {
   "cell_type": "code",
   "execution_count": 12,
   "id": "4a2a80f0",
   "metadata": {},
   "outputs": [
    {
     "name": "stdout",
     "output_type": "stream",
     "text": [
      "defaultdict(<class 'list'>, {'a': ['b', 'bb']})\n",
      "a ['b', 'bb']\n"
     ]
    }
   ],
   "source": [
    "from collections import defaultdict\n",
    "\n",
    "clotheslist = defaultdict(list)\n",
    "clotheslist[\"a\"].append(\"b\") # clotheslist[i] = n 필요 없음 \n",
    "clotheslist[\"a\"].append(\"bb\")\n",
    "print(clotheslist)\n",
    "\n",
    "for k,v in clotheslist.items():\n",
    "    print(k,v)"
   ]
  },
  {
   "cell_type": "code",
   "execution_count": 27,
   "id": "d189906d",
   "metadata": {},
   "outputs": [
    {
     "data": {
      "text/plain": [
       "[2, 1, 1, 0]"
      ]
     },
     "execution_count": 27,
     "metadata": {},
     "output_type": "execute_result"
    }
   ],
   "source": [
    "## 프로그래머스 신고결과 받기\n",
    "## https://school.programmers.co.kr/learn/courses/30/lessons/92334\n",
    "\n",
    "\n",
    "from collections import defaultdict\n",
    "\n",
    "def solution(id_list, report, k): \n",
    "    \n",
    "    # 유저별로 신고 횟수를 저장할 딕셔너리 \n",
    "    answer = dict()\n",
    "    for name in id_list:\n",
    "        answer[name] = 0\n",
    "    \n",
    "    \n",
    "    # {신고당한사람 = [신고한사람1, 신고한사람2..], } 을 저장할 딕셔너리 \n",
    "    reportDict = defaultdict(list)\n",
    "    \n",
    "    \n",
    "    for name in report:\n",
    "        reporter,reported = name.split(' ')\n",
    "        \n",
    "        if reporter not in reportDict[reported]:\n",
    "            reportDict[reported].append(reporter)\n",
    "            \n",
    "#     print(userDict)\n",
    "        \n",
    "    \n",
    "    for reported,reporter in reportDict.items():\n",
    "        if len(reporter) >= k:\n",
    "            for user in reporter:\n",
    "                answer[user] += 1\n",
    "    \n",
    "            \n",
    "    \n",
    "\n",
    "    return list(answer.values())\n",
    "\n",
    "id_list = [\"muzi\", \"frodo\", \"apeach\", \"neo\"]\n",
    "report = [\"muzi frodo\",\"apeach frodo\",\"frodo neo\",\"muzi neo\",\"apeach muzi\"]\n",
    "k = 2 \n",
    "\n",
    "\n",
    "a = [\"con\", \"ryan\"]\n",
    "b = [\"ryan con\", \"ryan con\", \"ryan con\", \"ryan con\"]\n",
    "c = 3\n",
    "\n",
    "solution(id_list, report, k)\n",
    "# solution(a,b,c)\n",
    "\n",
    "\n"
   ]
  },
  {
   "cell_type": "code",
   "execution_count": null,
   "id": "c5db95df",
   "metadata": {},
   "outputs": [],
   "source": []
  }
 ],
 "metadata": {
  "kernelspec": {
   "display_name": "Python 3 (ipykernel)",
   "language": "python",
   "name": "python3"
  },
  "language_info": {
   "codemirror_mode": {
    "name": "ipython",
    "version": 3
   },
   "file_extension": ".py",
   "mimetype": "text/x-python",
   "name": "python",
   "nbconvert_exporter": "python",
   "pygments_lexer": "ipython3",
   "version": "3.9.7"
  }
 },
 "nbformat": 4,
 "nbformat_minor": 5
}
